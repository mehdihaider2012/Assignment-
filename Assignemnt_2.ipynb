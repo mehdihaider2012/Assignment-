{
 "cells": [
  {
   "cell_type": "code",
   "execution_count": 26,
   "metadata": {},
   "outputs": [
    {
     "name": "stdout",
     "output_type": "stream",
     "text": [
      "Enter marks 0ut of 100:88\n",
      "Enter marks 0ut of 100:56\n",
      "Enter marks 0ut of 100:55\n",
      "Enter marks 0ut of 100:55\n",
      "Enter marks 0ut of 100:99\n",
      "totalmarks= 353\n",
      "percentage =  70.6\n",
      "Grade C\n"
     ]
    }
   ],
   "source": [
    "# question 1\n",
    "marks=[]\n",
    "totalmarks=0;\n",
    "for i in range (5):\n",
    "    x=int(input(\"Enter marks 0ut of 100:\"))\n",
    "    marks.append(x)\n",
    "    totalmarks=totalmarks+x\n",
    "print(\"totalmarks=\",totalmarks)\n",
    "percentage=(totalmarks*100)/500\n",
    "print(\"percentage = \",percentage)\n",
    "if percentage>=90:\n",
    "    print(\"Grade A\")\n",
    "elif percentage>=80:\n",
    "    print(\"Grade B\")\n",
    "elif percentage >=70:\n",
    "    print(\"Grade C\")\n",
    "elif percentage>=60:\n",
    "    print (\"Grade D\")\n",
    "else:\n",
    "    print(\"fail\")\n"
   ]
  },
  {
   "cell_type": "code",
   "execution_count": 27,
   "metadata": {},
   "outputs": [
    {
     "name": "stdout",
     "output_type": "stream",
     "text": [
      "Enter number22\n",
      "even no\n"
     ]
    }
   ],
   "source": [
    "#question2\n",
    "x=int(input(\"Enter number\" ))\n",
    "if x%2==0:\n",
    "      print(\"even no\")\n",
    "else:\n",
    "      print(\"odd no\")"
   ]
  },
  {
   "cell_type": "code",
   "execution_count": 18,
   "metadata": {},
   "outputs": [
    {
     "name": "stdout",
     "output_type": "stream",
     "text": [
      "5\n"
     ]
    }
   ],
   "source": [
    "list=[22,21,33,4,55]\n",
    "print(len(list))"
   ]
  },
  {
   "cell_type": "code",
   "execution_count": 28,
   "metadata": {},
   "outputs": [
    {
     "name": "stdout",
     "output_type": "stream",
     "text": [
      "Sum of list= 135\n"
     ]
    }
   ],
   "source": [
    "list=[22,21,33,4,55]\n",
    "x=len(list)\n",
    "sum=0\n",
    "for i in range(x):\n",
    "    sum=sum+list[i]\n",
    "print(\"Sum of list=\",sum)\n",
    "    "
   ]
  },
  {
   "cell_type": "code",
   "execution_count": 29,
   "metadata": {},
   "outputs": [
    {
     "name": "stdout",
     "output_type": "stream",
     "text": [
      "55\n"
     ]
    }
   ],
   "source": [
    "#question 5\n",
    "list=[22,21,33,44,55]\n",
    "print(max(list))"
   ]
  },
  {
   "cell_type": "code",
   "execution_count": 30,
   "metadata": {},
   "outputs": [
    {
     "name": "stdout",
     "output_type": "stream",
     "text": [
      "1\n",
      "1\n",
      "2\n",
      "3\n"
     ]
    }
   ],
   "source": [
    "#question 6 \n",
    "list = [1,1,2,3,5,8,13,21,34,55,89]\n",
    "x=len(list)\n",
    "for i in range(x):\n",
    "    if list[i]<5:\n",
    "        print(list[i])"
   ]
  },
  {
   "cell_type": "code",
   "execution_count": null,
   "metadata": {},
   "outputs": [],
   "source": []
  }
 ],
 "metadata": {
  "kernelspec": {
   "display_name": "Python 3",
   "language": "python",
   "name": "python3"
  },
  "language_info": {
   "codemirror_mode": {
    "name": "ipython",
    "version": 3
   },
   "file_extension": ".py",
   "mimetype": "text/x-python",
   "name": "python",
   "nbconvert_exporter": "python",
   "pygments_lexer": "ipython3",
   "version": "3.7.4"
  }
 },
 "nbformat": 4,
 "nbformat_minor": 2
}
